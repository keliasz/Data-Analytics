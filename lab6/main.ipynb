{
 "cells": [
  {
   "cell_type": "code",
   "execution_count": 1,
   "metadata": {},
   "outputs": [
    {
     "name": "stderr",
     "output_type": "stream",
     "text": [
      "/usr/local/lib/python3.9/site-packages/tqdm/auto.py:22: TqdmWarning: IProgress not found. Please update jupyter and ipywidgets. See https://ipywidgets.readthedocs.io/en/stable/user_install.html\n",
      "  from .autonotebook import tqdm as notebook_tqdm\n"
     ]
    }
   ],
   "source": [
    "from cmdstanpy import CmdStanModel\n",
    "\n",
    "import arviz as az\n",
    "import numpy as np\n",
    "import scipy.stats as stats\n",
    "\n",
    "import matplotlib.pyplot as plt\n",
    "import pandas as pd\n",
    "import seaborn as sns"
   ]
  },
  {
   "cell_type": "code",
   "execution_count": 2,
   "metadata": {},
   "outputs": [
    {
     "data": {
      "text/plain": [
       "1100"
      ]
     },
     "execution_count": 2,
     "metadata": {},
     "output_type": "execute_result"
    }
   ],
   "source": [
    "F = len('Jakub')\n",
    "L = len('Eliasz')\n",
    "N = (L+F)*100\n",
    "N"
   ]
  },
  {
   "attachments": {},
   "cell_type": "markdown",
   "metadata": {},
   "source": [
    "## Excercise 1 - generate data"
   ]
  },
  {
   "cell_type": "code",
   "execution_count": 3,
   "metadata": {},
   "outputs": [
    {
     "name": "stderr",
     "output_type": "stream",
     "text": [
      "INFO:cmdstanpy:found newer exe file, not recompiling\n"
     ]
    }
   ],
   "source": [
    "model_1 = CmdStanModel(stan_file='code_1.stan')"
   ]
  },
  {
   "cell_type": "code",
   "execution_count": 4,
   "metadata": {},
   "outputs": [
    {
     "name": "stderr",
     "output_type": "stream",
     "text": [
      "INFO:cmdstanpy:found newer exe file, not recompiling\n"
     ]
    }
   ],
   "source": [
    "model_2 = CmdStanModel(stan_file='code_2.stan')"
   ]
  },
  {
   "cell_type": "code",
   "execution_count": 5,
   "metadata": {},
   "outputs": [
    {
     "name": "stderr",
     "output_type": "stream",
     "text": [
      "INFO:cmdstanpy:CmdStan start processing\n",
      "chain 1 |\u001b[34m██████████\u001b[0m| 00:00 Sampling completed\n"
     ]
    },
    {
     "name": "stdout",
     "output_type": "stream",
     "text": [
      "                                                                                "
     ]
    },
    {
     "name": "stderr",
     "output_type": "stream",
     "text": [
      "INFO:cmdstanpy:CmdStan done processing.\n"
     ]
    },
    {
     "name": "stdout",
     "output_type": "stream",
     "text": [
      "\n"
     ]
    }
   ],
   "source": [
    "sim1 = model_1.sample(data={'N': N}, iter_sampling=1,\n",
    "                     iter_warmup=0,\n",
    "                     chains=1,\n",
    "                     seed=29042020)"
   ]
  },
  {
   "cell_type": "code",
   "execution_count": 6,
   "metadata": {},
   "outputs": [
    {
     "name": "stderr",
     "output_type": "stream",
     "text": [
      "INFO:cmdstanpy:CmdStan start processing\n",
      "chain 1 |\u001b[34m██████████\u001b[0m| 00:00 Sampling completed"
     ]
    },
    {
     "name": "stdout",
     "output_type": "stream",
     "text": [
      "                                                                                "
     ]
    },
    {
     "name": "stderr",
     "output_type": "stream",
     "text": [
      "\n",
      "INFO:cmdstanpy:CmdStan done processing.\n"
     ]
    },
    {
     "name": "stdout",
     "output_type": "stream",
     "text": [
      "\n"
     ]
    }
   ],
   "source": [
    "sim2 = model_2.sample(data={'N': N}, iter_sampling=1,\n",
    "                     iter_warmup=0,\n",
    "                     chains=1,\n",
    "                     seed=29042020)"
   ]
  },
  {
   "cell_type": "code",
   "execution_count": 7,
   "metadata": {},
   "outputs": [
    {
     "data": {
      "text/html": [
       "<div>\n",
       "<style scoped>\n",
       "    .dataframe tbody tr th:only-of-type {\n",
       "        vertical-align: middle;\n",
       "    }\n",
       "\n",
       "    .dataframe tbody tr th {\n",
       "        vertical-align: top;\n",
       "    }\n",
       "\n",
       "    .dataframe thead th {\n",
       "        text-align: right;\n",
       "    }\n",
       "</style>\n",
       "<table border=\"1\" class=\"dataframe\">\n",
       "  <thead>\n",
       "    <tr style=\"text-align: right;\">\n",
       "      <th></th>\n",
       "      <th>lp__</th>\n",
       "      <th>accept_stat__</th>\n",
       "      <th>theta</th>\n",
       "      <th>y[1]</th>\n",
       "      <th>y[2]</th>\n",
       "      <th>y[3]</th>\n",
       "      <th>y[4]</th>\n",
       "      <th>y[5]</th>\n",
       "      <th>y[6]</th>\n",
       "      <th>y[7]</th>\n",
       "      <th>...</th>\n",
       "      <th>y[1091]</th>\n",
       "      <th>y[1092]</th>\n",
       "      <th>y[1093]</th>\n",
       "      <th>y[1094]</th>\n",
       "      <th>y[1095]</th>\n",
       "      <th>y[1096]</th>\n",
       "      <th>y[1097]</th>\n",
       "      <th>y[1098]</th>\n",
       "      <th>y[1099]</th>\n",
       "      <th>y[1100]</th>\n",
       "    </tr>\n",
       "  </thead>\n",
       "  <tbody>\n",
       "    <tr>\n",
       "      <th>0</th>\n",
       "      <td>0.0</td>\n",
       "      <td>0.0</td>\n",
       "      <td>0.01</td>\n",
       "      <td>-0.424502</td>\n",
       "      <td>-0.063661</td>\n",
       "      <td>-0.833885</td>\n",
       "      <td>1.55158</td>\n",
       "      <td>-0.362245</td>\n",
       "      <td>0.743487</td>\n",
       "      <td>0.970844</td>\n",
       "      <td>...</td>\n",
       "      <td>0.95378</td>\n",
       "      <td>-1.67092</td>\n",
       "      <td>0.064711</td>\n",
       "      <td>-0.175345</td>\n",
       "      <td>-0.704234</td>\n",
       "      <td>-1.20993</td>\n",
       "      <td>-0.49628</td>\n",
       "      <td>-0.384517</td>\n",
       "      <td>-1.55192</td>\n",
       "      <td>-1.67579</td>\n",
       "    </tr>\n",
       "  </tbody>\n",
       "</table>\n",
       "<p>1 rows × 1103 columns</p>\n",
       "</div>"
      ],
      "text/plain": [
       "   lp__  accept_stat__  theta      y[1]      y[2]      y[3]     y[4]  \\\n",
       "0   0.0            0.0   0.01 -0.424502 -0.063661 -0.833885  1.55158   \n",
       "\n",
       "       y[5]      y[6]      y[7]  ...  y[1091]  y[1092]   y[1093]   y[1094]  \\\n",
       "0 -0.362245  0.743487  0.970844  ...  0.95378 -1.67092  0.064711 -0.175345   \n",
       "\n",
       "    y[1095]  y[1096]  y[1097]   y[1098]  y[1099]  y[1100]  \n",
       "0 -0.704234 -1.20993 -0.49628 -0.384517 -1.55192 -1.67579  \n",
       "\n",
       "[1 rows x 1103 columns]"
      ]
     },
     "execution_count": 7,
     "metadata": {},
     "output_type": "execute_result"
    }
   ],
   "source": [
    "df_1 = sim1.draws_pd()\n",
    "df_1.head()"
   ]
  },
  {
   "cell_type": "code",
   "execution_count": 8,
   "metadata": {},
   "outputs": [
    {
     "data": {
      "text/html": [
       "<div>\n",
       "<style scoped>\n",
       "    .dataframe tbody tr th:only-of-type {\n",
       "        vertical-align: middle;\n",
       "    }\n",
       "\n",
       "    .dataframe tbody tr th {\n",
       "        vertical-align: top;\n",
       "    }\n",
       "\n",
       "    .dataframe thead th {\n",
       "        text-align: right;\n",
       "    }\n",
       "</style>\n",
       "<table border=\"1\" class=\"dataframe\">\n",
       "  <thead>\n",
       "    <tr style=\"text-align: right;\">\n",
       "      <th></th>\n",
       "      <th>lp__</th>\n",
       "      <th>accept_stat__</th>\n",
       "      <th>X[1,1]</th>\n",
       "      <th>X[2,1]</th>\n",
       "      <th>X[3,1]</th>\n",
       "      <th>X[4,1]</th>\n",
       "      <th>X[5,1]</th>\n",
       "      <th>X[6,1]</th>\n",
       "      <th>X[7,1]</th>\n",
       "      <th>X[8,1]</th>\n",
       "      <th>...</th>\n",
       "      <th>y[1091]</th>\n",
       "      <th>y[1092]</th>\n",
       "      <th>y[1093]</th>\n",
       "      <th>y[1094]</th>\n",
       "      <th>y[1095]</th>\n",
       "      <th>y[1096]</th>\n",
       "      <th>y[1097]</th>\n",
       "      <th>y[1098]</th>\n",
       "      <th>y[1099]</th>\n",
       "      <th>y[1100]</th>\n",
       "    </tr>\n",
       "  </thead>\n",
       "  <tbody>\n",
       "    <tr>\n",
       "      <th>0</th>\n",
       "      <td>0.0</td>\n",
       "      <td>0.0</td>\n",
       "      <td>2.70817</td>\n",
       "      <td>0.777181</td>\n",
       "      <td>-1.27227</td>\n",
       "      <td>0.127591</td>\n",
       "      <td>-1.38942</td>\n",
       "      <td>0.246162</td>\n",
       "      <td>1.19873</td>\n",
       "      <td>2.26533</td>\n",
       "      <td>...</td>\n",
       "      <td>-0.549597</td>\n",
       "      <td>4.69989</td>\n",
       "      <td>-1.75485</td>\n",
       "      <td>3.13128</td>\n",
       "      <td>-0.367167</td>\n",
       "      <td>-3.19032</td>\n",
       "      <td>-3.01818</td>\n",
       "      <td>-3.35046</td>\n",
       "      <td>-3.19134</td>\n",
       "      <td>1.27599</td>\n",
       "    </tr>\n",
       "  </tbody>\n",
       "</table>\n",
       "<p>1 rows × 4405 columns</p>\n",
       "</div>"
      ],
      "text/plain": [
       "   lp__  accept_stat__   X[1,1]    X[2,1]   X[3,1]    X[4,1]   X[5,1]  \\\n",
       "0   0.0            0.0  2.70817  0.777181 -1.27227  0.127591 -1.38942   \n",
       "\n",
       "     X[6,1]   X[7,1]   X[8,1]  ...   y[1091]  y[1092]  y[1093]  y[1094]  \\\n",
       "0  0.246162  1.19873  2.26533  ... -0.549597  4.69989 -1.75485  3.13128   \n",
       "\n",
       "    y[1095]  y[1096]  y[1097]  y[1098]  y[1099]  y[1100]  \n",
       "0 -0.367167 -3.19032 -3.01818 -3.35046 -3.19134  1.27599  \n",
       "\n",
       "[1 rows x 4405 columns]"
      ]
     },
     "execution_count": 8,
     "metadata": {},
     "output_type": "execute_result"
    }
   ],
   "source": [
    "df_2 = sim2.draws_pd()\n",
    "df_2.head()"
   ]
  },
  {
   "cell_type": "code",
   "execution_count": 9,
   "metadata": {},
   "outputs": [],
   "source": [
    "ys_1 = df_1.loc[:, 'y[1]': f'y[{N}]']\n",
    "ys_2 = df_2.loc[:, 'y[1]': f'y[{N}]']"
   ]
  },
  {
   "attachments": {},
   "cell_type": "markdown",
   "metadata": {},
   "source": [
    "## Excercise 2 - compare normal and student models for data from first file"
   ]
  },
  {
   "cell_type": "code",
   "execution_count": 10,
   "metadata": {},
   "outputs": [
    {
     "name": "stderr",
     "output_type": "stream",
     "text": [
      "INFO:cmdstanpy:found newer exe file, not recompiling\n",
      "INFO:cmdstanpy:found newer exe file, not recompiling\n"
     ]
    }
   ],
   "source": [
    "model_3 = CmdStanModel(stan_file='code_3.stan')\n",
    "model_4 = CmdStanModel(stan_file='code_4.stan')"
   ]
  },
  {
   "cell_type": "code",
   "execution_count": 11,
   "metadata": {},
   "outputs": [
    {
     "name": "stderr",
     "output_type": "stream",
     "text": [
      "INFO:cmdstanpy:CmdStan start processing\n",
      "chain 1 |\u001b[33m          \u001b[0m| 00:00 Status\n",
      "\u001b[A\n",
      "\n",
      "\u001b[A\u001b[A\n",
      "\u001b[A\n",
      "\n",
      "chain 1 |\u001b[34m████████▋ \u001b[0m| 00:00 Iteration: 1600 / 2000 [ 80%]  (Sampling)\n",
      "\n",
      "\u001b[A\u001b[A\n",
      "chain 1 |\u001b[34m██████████\u001b[0m| 00:01 Sampling completed                       \n",
      "chain 2 |\u001b[34m██████████\u001b[0m| 00:01 Sampling completed                       \n",
      "chain 3 |\u001b[34m██████████\u001b[0m| 00:01 Sampling completed                       \n",
      "chain 4 |\u001b[34m██████████\u001b[0m| 00:01 Sampling completed                       "
     ]
    },
    {
     "name": "stdout",
     "output_type": "stream",
     "text": [
      "                                                                                                                                                                                                                                                                                                                                "
     ]
    },
    {
     "name": "stderr",
     "output_type": "stream",
     "text": [
      "\n",
      "INFO:cmdstanpy:CmdStan done processing.\n"
     ]
    },
    {
     "name": "stdout",
     "output_type": "stream",
     "text": [
      "\n"
     ]
    }
   ],
   "source": [
    "sim3 = model_3.sample(data={'N': N, 'y': ys_1.values.reshape((N,))}, seed=29042020)"
   ]
  },
  {
   "cell_type": "code",
   "execution_count": 12,
   "metadata": {},
   "outputs": [
    {
     "data": {
      "text/html": [
       "<div>\n",
       "<style scoped>\n",
       "    .dataframe tbody tr th:only-of-type {\n",
       "        vertical-align: middle;\n",
       "    }\n",
       "\n",
       "    .dataframe tbody tr th {\n",
       "        vertical-align: top;\n",
       "    }\n",
       "\n",
       "    .dataframe thead th {\n",
       "        text-align: right;\n",
       "    }\n",
       "</style>\n",
       "<table border=\"1\" class=\"dataframe\">\n",
       "  <thead>\n",
       "    <tr style=\"text-align: right;\">\n",
       "      <th></th>\n",
       "      <th>lp__</th>\n",
       "      <th>accept_stat__</th>\n",
       "      <th>stepsize__</th>\n",
       "      <th>treedepth__</th>\n",
       "      <th>n_leapfrog__</th>\n",
       "      <th>divergent__</th>\n",
       "      <th>energy__</th>\n",
       "      <th>sigma</th>\n",
       "      <th>mu</th>\n",
       "      <th>log_lik[1]</th>\n",
       "      <th>...</th>\n",
       "      <th>y_hat[1091]</th>\n",
       "      <th>y_hat[1092]</th>\n",
       "      <th>y_hat[1093]</th>\n",
       "      <th>y_hat[1094]</th>\n",
       "      <th>y_hat[1095]</th>\n",
       "      <th>y_hat[1096]</th>\n",
       "      <th>y_hat[1097]</th>\n",
       "      <th>y_hat[1098]</th>\n",
       "      <th>y_hat[1099]</th>\n",
       "      <th>y_hat[1100]</th>\n",
       "    </tr>\n",
       "  </thead>\n",
       "  <tbody>\n",
       "    <tr>\n",
       "      <th>0</th>\n",
       "      <td>-1993.98</td>\n",
       "      <td>0.923146</td>\n",
       "      <td>0.915976</td>\n",
       "      <td>3.0</td>\n",
       "      <td>7.0</td>\n",
       "      <td>0.0</td>\n",
       "      <td>1995.51</td>\n",
       "      <td>1.51859</td>\n",
       "      <td>0.199178</td>\n",
       "      <td>-1.42106</td>\n",
       "      <td>...</td>\n",
       "      <td>0.487424</td>\n",
       "      <td>0.615120</td>\n",
       "      <td>-0.066758</td>\n",
       "      <td>-0.468641</td>\n",
       "      <td>2.070890</td>\n",
       "      <td>0.540593</td>\n",
       "      <td>0.720968</td>\n",
       "      <td>2.774820</td>\n",
       "      <td>-1.45246</td>\n",
       "      <td>-0.242788</td>\n",
       "    </tr>\n",
       "    <tr>\n",
       "      <th>1</th>\n",
       "      <td>-1991.69</td>\n",
       "      <td>0.924807</td>\n",
       "      <td>0.915976</td>\n",
       "      <td>2.0</td>\n",
       "      <td>3.0</td>\n",
       "      <td>0.0</td>\n",
       "      <td>1995.01</td>\n",
       "      <td>1.48855</td>\n",
       "      <td>0.156454</td>\n",
       "      <td>-1.39290</td>\n",
       "      <td>...</td>\n",
       "      <td>0.134353</td>\n",
       "      <td>0.816215</td>\n",
       "      <td>1.216390</td>\n",
       "      <td>-0.545709</td>\n",
       "      <td>-0.992899</td>\n",
       "      <td>0.237548</td>\n",
       "      <td>-5.069930</td>\n",
       "      <td>-0.576642</td>\n",
       "      <td>-1.04741</td>\n",
       "      <td>0.950809</td>\n",
       "    </tr>\n",
       "    <tr>\n",
       "      <th>2</th>\n",
       "      <td>-1991.34</td>\n",
       "      <td>0.990014</td>\n",
       "      <td>0.915976</td>\n",
       "      <td>2.0</td>\n",
       "      <td>3.0</td>\n",
       "      <td>0.0</td>\n",
       "      <td>1992.22</td>\n",
       "      <td>1.51766</td>\n",
       "      <td>0.092244</td>\n",
       "      <td>-1.39407</td>\n",
       "      <td>...</td>\n",
       "      <td>0.237625</td>\n",
       "      <td>-1.088820</td>\n",
       "      <td>-0.141200</td>\n",
       "      <td>1.892500</td>\n",
       "      <td>1.605830</td>\n",
       "      <td>0.620431</td>\n",
       "      <td>0.604116</td>\n",
       "      <td>-1.147970</td>\n",
       "      <td>3.27534</td>\n",
       "      <td>1.686660</td>\n",
       "    </tr>\n",
       "    <tr>\n",
       "      <th>3</th>\n",
       "      <td>-1991.47</td>\n",
       "      <td>0.719987</td>\n",
       "      <td>0.915976</td>\n",
       "      <td>2.0</td>\n",
       "      <td>3.0</td>\n",
       "      <td>0.0</td>\n",
       "      <td>1994.57</td>\n",
       "      <td>1.47373</td>\n",
       "      <td>0.147804</td>\n",
       "      <td>-1.38214</td>\n",
       "      <td>...</td>\n",
       "      <td>1.586930</td>\n",
       "      <td>3.389420</td>\n",
       "      <td>-1.914440</td>\n",
       "      <td>-3.271610</td>\n",
       "      <td>0.539246</td>\n",
       "      <td>0.581264</td>\n",
       "      <td>0.032482</td>\n",
       "      <td>-0.977523</td>\n",
       "      <td>1.99093</td>\n",
       "      <td>0.219293</td>\n",
       "    </tr>\n",
       "    <tr>\n",
       "      <th>4</th>\n",
       "      <td>-1991.32</td>\n",
       "      <td>1.000000</td>\n",
       "      <td>0.915976</td>\n",
       "      <td>2.0</td>\n",
       "      <td>3.0</td>\n",
       "      <td>0.0</td>\n",
       "      <td>1991.82</td>\n",
       "      <td>1.50177</td>\n",
       "      <td>0.135316</td>\n",
       "      <td>-1.39506</td>\n",
       "      <td>...</td>\n",
       "      <td>2.250800</td>\n",
       "      <td>-2.251390</td>\n",
       "      <td>-0.958161</td>\n",
       "      <td>2.119370</td>\n",
       "      <td>-0.226110</td>\n",
       "      <td>0.032611</td>\n",
       "      <td>-0.392616</td>\n",
       "      <td>0.190696</td>\n",
       "      <td>-0.06839</td>\n",
       "      <td>-1.801840</td>\n",
       "    </tr>\n",
       "  </tbody>\n",
       "</table>\n",
       "<p>5 rows × 2209 columns</p>\n",
       "</div>"
      ],
      "text/plain": [
       "      lp__  accept_stat__  stepsize__  treedepth__  n_leapfrog__  divergent__  \\\n",
       "0 -1993.98       0.923146    0.915976          3.0           7.0          0.0   \n",
       "1 -1991.69       0.924807    0.915976          2.0           3.0          0.0   \n",
       "2 -1991.34       0.990014    0.915976          2.0           3.0          0.0   \n",
       "3 -1991.47       0.719987    0.915976          2.0           3.0          0.0   \n",
       "4 -1991.32       1.000000    0.915976          2.0           3.0          0.0   \n",
       "\n",
       "   energy__    sigma        mu  log_lik[1]  ...  y_hat[1091]  y_hat[1092]  \\\n",
       "0   1995.51  1.51859  0.199178    -1.42106  ...     0.487424     0.615120   \n",
       "1   1995.01  1.48855  0.156454    -1.39290  ...     0.134353     0.816215   \n",
       "2   1992.22  1.51766  0.092244    -1.39407  ...     0.237625    -1.088820   \n",
       "3   1994.57  1.47373  0.147804    -1.38214  ...     1.586930     3.389420   \n",
       "4   1991.82  1.50177  0.135316    -1.39506  ...     2.250800    -2.251390   \n",
       "\n",
       "   y_hat[1093]  y_hat[1094]  y_hat[1095]  y_hat[1096]  y_hat[1097]  \\\n",
       "0    -0.066758    -0.468641     2.070890     0.540593     0.720968   \n",
       "1     1.216390    -0.545709    -0.992899     0.237548    -5.069930   \n",
       "2    -0.141200     1.892500     1.605830     0.620431     0.604116   \n",
       "3    -1.914440    -3.271610     0.539246     0.581264     0.032482   \n",
       "4    -0.958161     2.119370    -0.226110     0.032611    -0.392616   \n",
       "\n",
       "   y_hat[1098]  y_hat[1099]  y_hat[1100]  \n",
       "0     2.774820     -1.45246    -0.242788  \n",
       "1    -0.576642     -1.04741     0.950809  \n",
       "2    -1.147970      3.27534     1.686660  \n",
       "3    -0.977523      1.99093     0.219293  \n",
       "4     0.190696     -0.06839    -1.801840  \n",
       "\n",
       "[5 rows x 2209 columns]"
      ]
     },
     "execution_count": 12,
     "metadata": {},
     "output_type": "execute_result"
    }
   ],
   "source": [
    "df_3 = sim3.draws_pd()\n",
    "df_3.head()"
   ]
  },
  {
   "cell_type": "code",
   "execution_count": 13,
   "metadata": {},
   "outputs": [
    {
     "name": "stderr",
     "output_type": "stream",
     "text": [
      "INFO:cmdstanpy:CmdStan start processing\n",
      "chain 1 |\u001b[33m          \u001b[0m| 00:00 Status\n",
      "\u001b[A\n",
      "\n",
      "chain 1 |\u001b[33m█▎        \u001b[0m| 00:00 Iteration:  100 / 2000 [  5%]  (Warmup)\n",
      "\n",
      "\u001b[A\u001b[A\n",
      "chain 1 |\u001b[33m███▋      \u001b[0m| 00:00 Iteration:  600 / 2000 [ 30%]  (Warmup)\n",
      "\n",
      "\u001b[A\u001b[A\n",
      "chain 1 |\u001b[34m█████▉    \u001b[0m| 00:00 Iteration: 1001 / 2000 [ 50%]  (Sampling)\n",
      "\u001b[A\n",
      "\n",
      "\u001b[A\u001b[A\n",
      "\u001b[A\n",
      "\n",
      "chain 1 |\u001b[34m███████▋  \u001b[0m| 00:01 Iteration: 1400 / 2000 [ 70%]  (Sampling)\n",
      "\n",
      "chain 1 |\u001b[34m█████████ \u001b[0m| 00:01 Iteration: 1700 / 2000 [ 85%]  (Sampling)\n",
      "\u001b[A\n",
      "\n",
      "chain 1 |\u001b[34m██████████\u001b[0m| 00:01 Iteration: 1900 / 2000 [ 95%]  (Sampling)\n",
      "chain 1 |\u001b[34m██████████\u001b[0m| 00:02 Sampling completed                       \n",
      "chain 2 |\u001b[34m██████████\u001b[0m| 00:02 Sampling completed                       \n",
      "chain 3 |\u001b[34m██████████\u001b[0m| 00:02 Sampling completed                       \n",
      "chain 4 |\u001b[34m██████████\u001b[0m| 00:02 Sampling completed                       "
     ]
    },
    {
     "name": "stdout",
     "output_type": "stream",
     "text": [
      "                                                                                                                                                                                                                                                                                                                                "
     ]
    },
    {
     "name": "stderr",
     "output_type": "stream",
     "text": [
      "\n",
      "INFO:cmdstanpy:CmdStan done processing.\n"
     ]
    },
    {
     "name": "stdout",
     "output_type": "stream",
     "text": [
      "\n"
     ]
    }
   ],
   "source": [
    "sim4 = model_4.sample(data={'N': N, 'y': ys_1.values.reshape((N,))}, seed=29042020)"
   ]
  },
  {
   "cell_type": "code",
   "execution_count": 14,
   "metadata": {},
   "outputs": [
    {
     "data": {
      "text/html": [
       "<div>\n",
       "<style scoped>\n",
       "    .dataframe tbody tr th:only-of-type {\n",
       "        vertical-align: middle;\n",
       "    }\n",
       "\n",
       "    .dataframe tbody tr th {\n",
       "        vertical-align: top;\n",
       "    }\n",
       "\n",
       "    .dataframe thead th {\n",
       "        text-align: right;\n",
       "    }\n",
       "</style>\n",
       "<table border=\"1\" class=\"dataframe\">\n",
       "  <thead>\n",
       "    <tr style=\"text-align: right;\">\n",
       "      <th></th>\n",
       "      <th>lp__</th>\n",
       "      <th>accept_stat__</th>\n",
       "      <th>stepsize__</th>\n",
       "      <th>treedepth__</th>\n",
       "      <th>n_leapfrog__</th>\n",
       "      <th>divergent__</th>\n",
       "      <th>energy__</th>\n",
       "      <th>sigma</th>\n",
       "      <th>mu</th>\n",
       "      <th>nu</th>\n",
       "      <th>...</th>\n",
       "      <th>y_hat[1091]</th>\n",
       "      <th>y_hat[1092]</th>\n",
       "      <th>y_hat[1093]</th>\n",
       "      <th>y_hat[1094]</th>\n",
       "      <th>y_hat[1095]</th>\n",
       "      <th>y_hat[1096]</th>\n",
       "      <th>y_hat[1097]</th>\n",
       "      <th>y_hat[1098]</th>\n",
       "      <th>y_hat[1099]</th>\n",
       "      <th>y_hat[1100]</th>\n",
       "    </tr>\n",
       "  </thead>\n",
       "  <tbody>\n",
       "    <tr>\n",
       "      <th>0</th>\n",
       "      <td>-1633.67</td>\n",
       "      <td>1.000000</td>\n",
       "      <td>0.741104</td>\n",
       "      <td>3.0</td>\n",
       "      <td>7.0</td>\n",
       "      <td>0.0</td>\n",
       "      <td>1634.95</td>\n",
       "      <td>0.855834</td>\n",
       "      <td>-0.020117</td>\n",
       "      <td>4.97143</td>\n",
       "      <td>...</td>\n",
       "      <td>-0.012945</td>\n",
       "      <td>-1.45054</td>\n",
       "      <td>0.672722</td>\n",
       "      <td>-0.417047</td>\n",
       "      <td>-2.166760</td>\n",
       "      <td>5.509450</td>\n",
       "      <td>2.098110</td>\n",
       "      <td>0.134317</td>\n",
       "      <td>-0.586334</td>\n",
       "      <td>-1.091910</td>\n",
       "    </tr>\n",
       "    <tr>\n",
       "      <th>1</th>\n",
       "      <td>-1634.41</td>\n",
       "      <td>0.815502</td>\n",
       "      <td>0.741104</td>\n",
       "      <td>2.0</td>\n",
       "      <td>3.0</td>\n",
       "      <td>0.0</td>\n",
       "      <td>1636.27</td>\n",
       "      <td>0.822581</td>\n",
       "      <td>-0.043377</td>\n",
       "      <td>4.56481</td>\n",
       "      <td>...</td>\n",
       "      <td>-0.666717</td>\n",
       "      <td>-1.21761</td>\n",
       "      <td>-2.020920</td>\n",
       "      <td>0.973686</td>\n",
       "      <td>0.678113</td>\n",
       "      <td>-0.338797</td>\n",
       "      <td>-0.229188</td>\n",
       "      <td>-0.192398</td>\n",
       "      <td>-2.350950</td>\n",
       "      <td>-1.302670</td>\n",
       "    </tr>\n",
       "    <tr>\n",
       "      <th>2</th>\n",
       "      <td>-1633.17</td>\n",
       "      <td>0.992314</td>\n",
       "      <td>0.741104</td>\n",
       "      <td>3.0</td>\n",
       "      <td>7.0</td>\n",
       "      <td>0.0</td>\n",
       "      <td>1635.17</td>\n",
       "      <td>0.869576</td>\n",
       "      <td>0.017165</td>\n",
       "      <td>4.40691</td>\n",
       "      <td>...</td>\n",
       "      <td>0.495871</td>\n",
       "      <td>1.22156</td>\n",
       "      <td>-0.871710</td>\n",
       "      <td>0.027565</td>\n",
       "      <td>-0.697339</td>\n",
       "      <td>-0.166647</td>\n",
       "      <td>-1.012900</td>\n",
       "      <td>-0.243247</td>\n",
       "      <td>0.457924</td>\n",
       "      <td>-1.424500</td>\n",
       "    </tr>\n",
       "    <tr>\n",
       "      <th>3</th>\n",
       "      <td>-1633.29</td>\n",
       "      <td>0.989646</td>\n",
       "      <td>0.741104</td>\n",
       "      <td>3.0</td>\n",
       "      <td>7.0</td>\n",
       "      <td>0.0</td>\n",
       "      <td>1634.02</td>\n",
       "      <td>0.800199</td>\n",
       "      <td>0.035092</td>\n",
       "      <td>4.17947</td>\n",
       "      <td>...</td>\n",
       "      <td>-1.118730</td>\n",
       "      <td>0.48007</td>\n",
       "      <td>-2.382930</td>\n",
       "      <td>0.574372</td>\n",
       "      <td>0.898038</td>\n",
       "      <td>-0.179972</td>\n",
       "      <td>0.714656</td>\n",
       "      <td>0.572481</td>\n",
       "      <td>0.130556</td>\n",
       "      <td>-0.370403</td>\n",
       "    </tr>\n",
       "    <tr>\n",
       "      <th>4</th>\n",
       "      <td>-1632.62</td>\n",
       "      <td>0.998869</td>\n",
       "      <td>0.741104</td>\n",
       "      <td>3.0</td>\n",
       "      <td>7.0</td>\n",
       "      <td>0.0</td>\n",
       "      <td>1633.71</td>\n",
       "      <td>0.851507</td>\n",
       "      <td>0.032483</td>\n",
       "      <td>4.32417</td>\n",
       "      <td>...</td>\n",
       "      <td>-0.274694</td>\n",
       "      <td>1.87359</td>\n",
       "      <td>1.293300</td>\n",
       "      <td>-1.755940</td>\n",
       "      <td>-0.697700</td>\n",
       "      <td>-1.022930</td>\n",
       "      <td>-0.108341</td>\n",
       "      <td>-0.199078</td>\n",
       "      <td>-0.265378</td>\n",
       "      <td>0.682755</td>\n",
       "    </tr>\n",
       "  </tbody>\n",
       "</table>\n",
       "<p>5 rows × 2210 columns</p>\n",
       "</div>"
      ],
      "text/plain": [
       "      lp__  accept_stat__  stepsize__  treedepth__  n_leapfrog__  divergent__  \\\n",
       "0 -1633.67       1.000000    0.741104          3.0           7.0          0.0   \n",
       "1 -1634.41       0.815502    0.741104          2.0           3.0          0.0   \n",
       "2 -1633.17       0.992314    0.741104          3.0           7.0          0.0   \n",
       "3 -1633.29       0.989646    0.741104          3.0           7.0          0.0   \n",
       "4 -1632.62       0.998869    0.741104          3.0           7.0          0.0   \n",
       "\n",
       "   energy__     sigma        mu       nu  ...  y_hat[1091]  y_hat[1092]  \\\n",
       "0   1634.95  0.855834 -0.020117  4.97143  ...    -0.012945     -1.45054   \n",
       "1   1636.27  0.822581 -0.043377  4.56481  ...    -0.666717     -1.21761   \n",
       "2   1635.17  0.869576  0.017165  4.40691  ...     0.495871      1.22156   \n",
       "3   1634.02  0.800199  0.035092  4.17947  ...    -1.118730      0.48007   \n",
       "4   1633.71  0.851507  0.032483  4.32417  ...    -0.274694      1.87359   \n",
       "\n",
       "   y_hat[1093]  y_hat[1094]  y_hat[1095]  y_hat[1096]  y_hat[1097]  \\\n",
       "0     0.672722    -0.417047    -2.166760     5.509450     2.098110   \n",
       "1    -2.020920     0.973686     0.678113    -0.338797    -0.229188   \n",
       "2    -0.871710     0.027565    -0.697339    -0.166647    -1.012900   \n",
       "3    -2.382930     0.574372     0.898038    -0.179972     0.714656   \n",
       "4     1.293300    -1.755940    -0.697700    -1.022930    -0.108341   \n",
       "\n",
       "   y_hat[1098]  y_hat[1099]  y_hat[1100]  \n",
       "0     0.134317    -0.586334    -1.091910  \n",
       "1    -0.192398    -2.350950    -1.302670  \n",
       "2    -0.243247     0.457924    -1.424500  \n",
       "3     0.572481     0.130556    -0.370403  \n",
       "4    -0.199078    -0.265378     0.682755  \n",
       "\n",
       "[5 rows x 2210 columns]"
      ]
     },
     "execution_count": 14,
     "metadata": {},
     "output_type": "execute_result"
    }
   ],
   "source": [
    "df_4 = sim4.draws_pd()\n",
    "df_4.head()"
   ]
  },
  {
   "cell_type": "code",
   "execution_count": 15,
   "metadata": {},
   "outputs": [],
   "source": [
    "arviz_data1 = az.from_cmdstanpy(posterior=sim3)\n",
    "arviz_data2 = az.from_cmdstanpy(posterior=sim4)"
   ]
  },
  {
   "cell_type": "code",
   "execution_count": 16,
   "metadata": {},
   "outputs": [
    {
     "name": "stderr",
     "output_type": "stream",
     "text": [
      "/usr/local/lib/python3.9/site-packages/arviz/stats/stats.py:811: UserWarning: Estimated shape parameter of Pareto distribution is greater than 0.7 for one or more samples. You should consider using a more robust model, this is because importance sampling is less likely to work well if the marginal posterior and LOO posterior are very different. This is more likely to happen with a non-robust model and highly influential observations.\n",
      "  warnings.warn(\n"
     ]
    },
    {
     "data": {
      "text/html": [
       "<div>\n",
       "<style scoped>\n",
       "    .dataframe tbody tr th:only-of-type {\n",
       "        vertical-align: middle;\n",
       "    }\n",
       "\n",
       "    .dataframe tbody tr th {\n",
       "        vertical-align: top;\n",
       "    }\n",
       "\n",
       "    .dataframe thead th {\n",
       "        text-align: right;\n",
       "    }\n",
       "</style>\n",
       "<table border=\"1\" class=\"dataframe\">\n",
       "  <thead>\n",
       "    <tr style=\"text-align: right;\">\n",
       "      <th></th>\n",
       "      <th>rank</th>\n",
       "      <th>loo</th>\n",
       "      <th>p_loo</th>\n",
       "      <th>d_loo</th>\n",
       "      <th>weight</th>\n",
       "      <th>se</th>\n",
       "      <th>dse</th>\n",
       "      <th>warning</th>\n",
       "      <th>loo_scale</th>\n",
       "    </tr>\n",
       "  </thead>\n",
       "  <tbody>\n",
       "    <tr>\n",
       "      <th>Student</th>\n",
       "      <td>0</td>\n",
       "      <td>-1633.323155</td>\n",
       "      <td>4.641782</td>\n",
       "      <td>0.000000</td>\n",
       "      <td>1.000000e+00</td>\n",
       "      <td>36.716588</td>\n",
       "      <td>0.000000</td>\n",
       "      <td>False</td>\n",
       "      <td>log</td>\n",
       "    </tr>\n",
       "    <tr>\n",
       "      <th>Normal</th>\n",
       "      <td>1</td>\n",
       "      <td>-2007.624696</td>\n",
       "      <td>28.747757</td>\n",
       "      <td>374.301541</td>\n",
       "      <td>4.409344e-10</td>\n",
       "      <td>132.376346</td>\n",
       "      <td>106.835922</td>\n",
       "      <td>True</td>\n",
       "      <td>log</td>\n",
       "    </tr>\n",
       "  </tbody>\n",
       "</table>\n",
       "</div>"
      ],
      "text/plain": [
       "         rank          loo      p_loo       d_loo        weight          se  \\\n",
       "Student     0 -1633.323155   4.641782    0.000000  1.000000e+00   36.716588   \n",
       "Normal      1 -2007.624696  28.747757  374.301541  4.409344e-10  132.376346   \n",
       "\n",
       "                dse  warning loo_scale  \n",
       "Student    0.000000    False       log  \n",
       "Normal   106.835922     True       log  "
      ]
     },
     "execution_count": 16,
     "metadata": {},
     "output_type": "execute_result"
    }
   ],
   "source": [
    "compare_dict = {\"Normal\": arviz_data1, \"Student\": arviz_data2}\n",
    "difference_loo = az.compare(compare_dict, ic=\"loo\")\n",
    "difference_loo"
   ]
  },
  {
   "cell_type": "code",
   "execution_count": 17,
   "metadata": {},
   "outputs": [
    {
     "data": {
      "text/plain": [
       "<AxesSubplot:xlabel='Log'>"
      ]
     },
     "execution_count": 17,
     "metadata": {},
     "output_type": "execute_result"
    },
    {
     "data": {
      "image/png": "[encoded data removed]",
      "text/plain": [
       "<Figure size 432x144 with 1 Axes>"
      ]
     },
     "metadata": {
      "needs_background": "light"
     },
     "output_type": "display_data"
    }
   ],
   "source": [
    "az.plot_compare(difference_loo)"
   ]
  },
  {
   "cell_type": "code",
   "execution_count": 18,
   "metadata": {},
   "outputs": [
    {
     "name": "stderr",
     "output_type": "stream",
     "text": [
      "/usr/local/lib/python3.9/site-packages/arviz/stats/stats.py:1635: UserWarning: For one or more samples the posterior variance of the log predictive densities exceeds 0.4. This could be indication of WAIC starting to fail. \n",
      "See http://arxiv.org/abs/1507.04544 for details\n",
      "  warnings.warn(\n",
      "/usr/local/lib/python3.9/site-packages/arviz/stats/stats.py:1635: UserWarning: For one or more samples the posterior variance of the log predictive densities exceeds 0.4. This could be indication of WAIC starting to fail. \n",
      "See http://arxiv.org/abs/1507.04544 for details\n",
      "  warnings.warn(\n"
     ]
    },
    {
     "data": {
      "text/html": [
       "<div>\n",
       "<style scoped>\n",
       "    .dataframe tbody tr th:only-of-type {\n",
       "        vertical-align: middle;\n",
       "    }\n",
       "\n",
       "    .dataframe tbody tr th {\n",
       "        vertical-align: top;\n",
       "    }\n",
       "\n",
       "    .dataframe thead th {\n",
       "        text-align: right;\n",
       "    }\n",
       "</style>\n",
       "<table border=\"1\" class=\"dataframe\">\n",
       "  <thead>\n",
       "    <tr style=\"text-align: right;\">\n",
       "      <th></th>\n",
       "      <th>rank</th>\n",
       "      <th>waic</th>\n",
       "      <th>p_waic</th>\n",
       "      <th>d_waic</th>\n",
       "      <th>weight</th>\n",
       "      <th>se</th>\n",
       "      <th>dse</th>\n",
       "      <th>warning</th>\n",
       "      <th>waic_scale</th>\n",
       "    </tr>\n",
       "  </thead>\n",
       "  <tbody>\n",
       "    <tr>\n",
       "      <th>Student</th>\n",
       "      <td>0</td>\n",
       "      <td>-1633.306630</td>\n",
       "      <td>4.625258</td>\n",
       "      <td>0.000000</td>\n",
       "      <td>1.0</td>\n",
       "      <td>36.711569</td>\n",
       "      <td>0.000000</td>\n",
       "      <td>True</td>\n",
       "      <td>log</td>\n",
       "    </tr>\n",
       "    <tr>\n",
       "      <th>Normal</th>\n",
       "      <td>1</td>\n",
       "      <td>-2008.170878</td>\n",
       "      <td>29.293940</td>\n",
       "      <td>374.864248</td>\n",
       "      <td>0.0</td>\n",
       "      <td>132.655603</td>\n",
       "      <td>107.129773</td>\n",
       "      <td>True</td>\n",
       "      <td>log</td>\n",
       "    </tr>\n",
       "  </tbody>\n",
       "</table>\n",
       "</div>"
      ],
      "text/plain": [
       "         rank         waic     p_waic      d_waic  weight          se  \\\n",
       "Student     0 -1633.306630   4.625258    0.000000     1.0   36.711569   \n",
       "Normal      1 -2008.170878  29.293940  374.864248     0.0  132.655603   \n",
       "\n",
       "                dse  warning waic_scale  \n",
       "Student    0.000000     True        log  \n",
       "Normal   107.129773     True        log  "
      ]
     },
     "execution_count": 18,
     "metadata": {},
     "output_type": "execute_result"
    }
   ],
   "source": [
    "difference_waic = az.compare(compare_dict, ic=\"waic\")\n",
    "difference_waic"
   ]
  },
  {
   "cell_type": "code",
   "execution_count": 19,
   "metadata": {},
   "outputs": [
    {
     "data": {
      "text/plain": [
       "<AxesSubplot:xlabel='Log'>"
      ]
     },
     "execution_count": 19,
     "metadata": {},
     "output_type": "execute_result"
    },
    {
     "data": {
      "image/png": "[encoded data removed]",
      "text/plain": [
       "<Figure size 432x144 with 1 Axes>"
      ]
     },
     "metadata": {
      "needs_background": "light"
     },
     "output_type": "display_data"
    }
   ],
   "source": [
    "az.plot_compare(difference_waic)"
   ]
  },
  {
   "attachments": {},
   "cell_type": "markdown",
   "metadata": {},
   "source": [
    "#### Student model have higher log-score - better predictive accuracy."
   ]
  },
  {
   "attachments": {},
   "cell_type": "markdown",
   "metadata": {},
   "source": [
    "## Excercise 3 - compare models with different number of predictors"
   ]
  },
  {
   "cell_type": "code",
   "execution_count": 20,
   "metadata": {},
   "outputs": [
    {
     "name": "stderr",
     "output_type": "stream",
     "text": [
      "INFO:cmdstanpy:found newer exe file, not recompiling\n"
     ]
    }
   ],
   "source": [
    "model_5 = CmdStanModel(stan_file='code_5.stan')"
   ]
  },
  {
   "cell_type": "code",
   "execution_count": 21,
   "metadata": {},
   "outputs": [
    {
     "name": "stderr",
     "output_type": "stream",
     "text": [
      "INFO:cmdstanpy:CmdStan start processing\n",
      "chain 1 |\u001b[33m          \u001b[0m| 00:00 Status\n",
      "\u001b[A\n",
      "\n",
      "chain 1 |\u001b[33m███▏      \u001b[0m| 00:00 Iteration:  500 / 2000 [ 25%]  (Warmup)\n",
      "\u001b[A\n",
      "\n",
      "\u001b[A\u001b[A\n",
      "\n",
      "\u001b[A\u001b[A\n",
      "chain 1 |\u001b[34m██████▎   \u001b[0m| 00:00 Iteration: 1100 / 2000 [ 55%]  (Sampling)\n",
      "\u001b[A\n",
      "\n",
      "chain 1 |\u001b[34m████████▏ \u001b[0m| 00:01 Iteration: 1500 / 2000 [ 75%]  (Sampling)\n",
      "\u001b[A\n",
      "\n",
      "chain 1 |\u001b[34m█████████▌\u001b[0m| 00:01 Iteration: 1800 / 2000 [ 90%]  (Sampling)\n",
      "\u001b[A\n",
      "\n",
      "chain 1 |\u001b[34m██████████\u001b[0m| 00:02 Sampling completed                       \n",
      "chain 2 |\u001b[34m██████████\u001b[0m| 00:02 Sampling completed                       \n",
      "chain 3 |\u001b[34m██████████\u001b[0m| 00:02 Sampling completed                       \n",
      "chain 4 |\u001b[34m██████████\u001b[0m| 00:02 Sampling completed                       "
     ]
    },
    {
     "name": "stdout",
     "output_type": "stream",
     "text": [
      "                                                                                                                                                                                                                                                                                                                                "
     ]
    },
    {
     "name": "stderr",
     "output_type": "stream",
     "text": [
      "\n",
      "INFO:cmdstanpy:CmdStan done processing.\n"
     ]
    },
    {
     "name": "stdout",
     "output_type": "stream",
     "text": [
      "\n"
     ]
    }
   ],
   "source": [
    "sim5_k1 = model_5.sample(data={'N': N, 'K': 1, 'y': ys_2.values.reshape((N,)), 'X': df_2.loc[:, 'X[1,1]':f'X[{N},1]'].values.reshape((N, 1))}, seed=29042020)"
   ]
  },
  {
   "cell_type": "code",
   "execution_count": 22,
   "metadata": {},
   "outputs": [
    {
     "name": "stderr",
     "output_type": "stream",
     "text": [
      "INFO:cmdstanpy:CmdStan start processing\n",
      "chain 1 |\u001b[33m          \u001b[0m| 00:00 Status\n",
      "\u001b[A\n",
      "\n",
      "chain 1 |\u001b[33m█▊        \u001b[0m| 00:00 Iteration:  200 / 2000 [ 10%]  (Warmup)\n",
      "\n",
      "\u001b[A\u001b[A\n",
      "chain 1 |\u001b[33m████▌     \u001b[0m| 00:00 Iteration:  800 / 2000 [ 40%]  (Warmup)\n",
      "\n",
      "\u001b[A\u001b[A\n",
      "\u001b[A\n",
      "\n",
      "\u001b[A\u001b[A\n",
      "chain 1 |\u001b[34m██████▊   \u001b[0m| 00:00 Iteration: 1200 / 2000 [ 60%]  (Sampling)\n",
      "\n",
      "\u001b[A\u001b[A\n",
      "chain 1 |\u001b[34m████████▏ \u001b[0m| 00:01 Iteration: 1500 / 2000 [ 75%]  (Sampling)\n",
      "\n",
      "\u001b[A\u001b[A\n",
      "chain 1 |\u001b[34m█████████ \u001b[0m| 00:02 Iteration: 1700 / 2000 [ 85%]  (Sampling)\n",
      "\n",
      "\u001b[A\u001b[A\n",
      "chain 1 |\u001b[34m██████████\u001b[0m| 00:02 Sampling completed                       \n",
      "chain 2 |\u001b[34m██████████\u001b[0m| 00:02 Sampling completed                       \n",
      "chain 3 |\u001b[34m██████████\u001b[0m| 00:02 Sampling completed                       \n",
      "chain 4 |\u001b[34m██████████\u001b[0m| 00:02 Sampling completed                       "
     ]
    },
    {
     "name": "stdout",
     "output_type": "stream",
     "text": [
      "                                                                                                                                                                                                                                                                                                                                "
     ]
    },
    {
     "name": "stderr",
     "output_type": "stream",
     "text": [
      "\n",
      "INFO:cmdstanpy:CmdStan done processing.\n"
     ]
    },
    {
     "name": "stdout",
     "output_type": "stream",
     "text": [
      "\n"
     ]
    }
   ],
   "source": [
    "sim5_k2 = model_5.sample(data={'N': N, 'K': 2, 'y': ys_2.values.reshape((N,)), 'X': df_2.loc[:, 'X[1,1]':f'X[{N},2]'].values.reshape((N, 2))}, seed=29042020)"
   ]
  },
  {
   "cell_type": "code",
   "execution_count": 23,
   "metadata": {},
   "outputs": [
    {
     "name": "stderr",
     "output_type": "stream",
     "text": [
      "INFO:cmdstanpy:CmdStan start processing\n",
      "chain 1 |\u001b[33m          \u001b[0m| 00:00 Status\n",
      "\u001b[A\n",
      "\n",
      "chain 1 |\u001b[33m█▎        \u001b[0m| 00:00 Iteration:  100 / 2000 [  5%]  (Warmup)\n",
      "\u001b[A\n",
      "\n",
      "\u001b[A\u001b[A\n",
      "\u001b[A\n",
      "\n",
      "chain 1 |\u001b[33m████      \u001b[0m| 00:00 Iteration:  700 / 2000 [ 35%]  (Warmup)\n",
      "\u001b[A\n",
      "\n",
      "chain 1 |\u001b[34m██████▎   \u001b[0m| 00:00 Iteration: 1100 / 2000 [ 55%]  (Sampling)\n",
      "\u001b[A\n",
      "\n",
      "chain 1 |\u001b[34m███████▋  \u001b[0m| 00:01 Iteration: 1400 / 2000 [ 70%]  (Sampling)\n",
      "\u001b[A\n",
      "\n",
      "chain 1 |\u001b[34m████████▋ \u001b[0m| 00:02 Iteration: 1600 / 2000 [ 80%]  (Sampling)\n",
      "\u001b[A\n",
      "\n",
      "chain 1 |\u001b[34m█████████▌\u001b[0m| 00:02 Iteration: 1800 / 2000 [ 90%]  (Sampling)\n",
      "\u001b[A\n",
      "\n",
      "chain 1 |\u001b[34m██████████\u001b[0m| 00:02 Sampling completed                       \n",
      "chain 2 |\u001b[34m██████████\u001b[0m| 00:02 Sampling completed                       \n",
      "chain 3 |\u001b[34m██████████\u001b[0m| 00:02 Sampling completed                       \n",
      "chain 4 |\u001b[34m██████████\u001b[0m| 00:02 Sampling completed                       "
     ]
    },
    {
     "name": "stdout",
     "output_type": "stream",
     "text": [
      "                                                                                                                                                                                                                                                                                                                                "
     ]
    },
    {
     "name": "stderr",
     "output_type": "stream",
     "text": [
      "\n",
      "INFO:cmdstanpy:CmdStan done processing.\n"
     ]
    },
    {
     "name": "stdout",
     "output_type": "stream",
     "text": [
      "\n"
     ]
    }
   ],
   "source": [
    "sim5_k3 = model_5.sample(data={'N': N, 'K': 3, 'y': ys_2.values.reshape((N,)), 'X': df_2.loc[:, 'X[1,1]':f'X[{N},3]'].values.reshape((N, 3))}, seed=29042020)"
   ]
  },
  {
   "cell_type": "code",
   "execution_count": 24,
   "metadata": {},
   "outputs": [],
   "source": [
    "arviz_data1 = az.from_cmdstanpy(posterior=sim5_k1)\n",
    "arviz_data2 = az.from_cmdstanpy(posterior=sim5_k2)\n",
    "arviz_data3 = az.from_cmdstanpy(posterior=sim5_k3)"
   ]
  },
  {
   "cell_type": "code",
   "execution_count": 25,
   "metadata": {},
   "outputs": [],
   "source": [
    "compare_dict = {\"k=1\": arviz_data1, \"k=2\": arviz_data2, \"k=3\": arviz_data3}"
   ]
  },
  {
   "cell_type": "code",
   "execution_count": 26,
   "metadata": {},
   "outputs": [
    {
     "data": {
      "text/html": [
       "<div>\n",
       "<style scoped>\n",
       "    .dataframe tbody tr th:only-of-type {\n",
       "        vertical-align: middle;\n",
       "    }\n",
       "\n",
       "    .dataframe tbody tr th {\n",
       "        vertical-align: top;\n",
       "    }\n",
       "\n",
       "    .dataframe thead th {\n",
       "        text-align: right;\n",
       "    }\n",
       "</style>\n",
       "<table border=\"1\" class=\"dataframe\">\n",
       "  <thead>\n",
       "    <tr style=\"text-align: right;\">\n",
       "      <th></th>\n",
       "      <th>rank</th>\n",
       "      <th>loo</th>\n",
       "      <th>p_loo</th>\n",
       "      <th>d_loo</th>\n",
       "      <th>weight</th>\n",
       "      <th>se</th>\n",
       "      <th>dse</th>\n",
       "      <th>warning</th>\n",
       "      <th>loo_scale</th>\n",
       "    </tr>\n",
       "  </thead>\n",
       "  <tbody>\n",
       "    <tr>\n",
       "      <th>k=1</th>\n",
       "      <td>0</td>\n",
       "      <td>-2025.191341</td>\n",
       "      <td>1.817018</td>\n",
       "      <td>0.000000</td>\n",
       "      <td>1.000000e+00</td>\n",
       "      <td>22.811226</td>\n",
       "      <td>0.000000</td>\n",
       "      <td>False</td>\n",
       "      <td>log</td>\n",
       "    </tr>\n",
       "    <tr>\n",
       "      <th>k=2</th>\n",
       "      <td>1</td>\n",
       "      <td>-2597.073540</td>\n",
       "      <td>2.956229</td>\n",
       "      <td>571.882199</td>\n",
       "      <td>1.613924e-13</td>\n",
       "      <td>22.662283</td>\n",
       "      <td>25.496080</td>\n",
       "      <td>False</td>\n",
       "      <td>log</td>\n",
       "    </tr>\n",
       "    <tr>\n",
       "      <th>k=3</th>\n",
       "      <td>2</td>\n",
       "      <td>-2597.836161</td>\n",
       "      <td>3.927841</td>\n",
       "      <td>572.644820</td>\n",
       "      <td>0.000000e+00</td>\n",
       "      <td>22.716183</td>\n",
       "      <td>25.508443</td>\n",
       "      <td>False</td>\n",
       "      <td>log</td>\n",
       "    </tr>\n",
       "  </tbody>\n",
       "</table>\n",
       "</div>"
      ],
      "text/plain": [
       "     rank          loo     p_loo       d_loo        weight         se  \\\n",
       "k=1     0 -2025.191341  1.817018    0.000000  1.000000e+00  22.811226   \n",
       "k=2     1 -2597.073540  2.956229  571.882199  1.613924e-13  22.662283   \n",
       "k=3     2 -2597.836161  3.927841  572.644820  0.000000e+00  22.716183   \n",
       "\n",
       "           dse  warning loo_scale  \n",
       "k=1   0.000000    False       log  \n",
       "k=2  25.496080    False       log  \n",
       "k=3  25.508443    False       log  "
      ]
     },
     "execution_count": 26,
     "metadata": {},
     "output_type": "execute_result"
    }
   ],
   "source": [
    "difference = az.compare(compare_dict, ic=\"loo\")\n",
    "difference"
   ]
  },
  {
   "cell_type": "code",
   "execution_count": 27,
   "metadata": {},
   "outputs": [
    {
     "data": {
      "text/plain": [
       "<AxesSubplot:xlabel='Log'>"
      ]
     },
     "execution_count": 27,
     "metadata": {},
     "output_type": "execute_result"
    },
    {
     "data": {
      "image/png": "[encoded data removed]",
      "text/plain": [
       "<Figure size 432x216 with 1 Axes>"
      ]
     },
     "metadata": {
      "needs_background": "light"
     },
     "output_type": "display_data"
    }
   ],
   "source": [
    "az.plot_compare(difference)"
   ]
  },
  {
   "cell_type": "code",
   "execution_count": 28,
   "metadata": {},
   "outputs": [
    {
     "data": {
      "text/html": [
       "<div>\n",
       "<style scoped>\n",
       "    .dataframe tbody tr th:only-of-type {\n",
       "        vertical-align: middle;\n",
       "    }\n",
       "\n",
       "    .dataframe tbody tr th {\n",
       "        vertical-align: top;\n",
       "    }\n",
       "\n",
       "    .dataframe thead th {\n",
       "        text-align: right;\n",
       "    }\n",
       "</style>\n",
       "<table border=\"1\" class=\"dataframe\">\n",
       "  <thead>\n",
       "    <tr style=\"text-align: right;\">\n",
       "      <th></th>\n",
       "      <th>rank</th>\n",
       "      <th>waic</th>\n",
       "      <th>p_waic</th>\n",
       "      <th>d_waic</th>\n",
       "      <th>weight</th>\n",
       "      <th>se</th>\n",
       "      <th>dse</th>\n",
       "      <th>warning</th>\n",
       "      <th>waic_scale</th>\n",
       "    </tr>\n",
       "  </thead>\n",
       "  <tbody>\n",
       "    <tr>\n",
       "      <th>k=1</th>\n",
       "      <td>0</td>\n",
       "      <td>-2025.191107</td>\n",
       "      <td>1.816784</td>\n",
       "      <td>0.000000</td>\n",
       "      <td>1.000000e+00</td>\n",
       "      <td>22.811192</td>\n",
       "      <td>0.000000</td>\n",
       "      <td>False</td>\n",
       "      <td>log</td>\n",
       "    </tr>\n",
       "    <tr>\n",
       "      <th>k=2</th>\n",
       "      <td>1</td>\n",
       "      <td>-2597.073204</td>\n",
       "      <td>2.955893</td>\n",
       "      <td>571.882097</td>\n",
       "      <td>0.000000e+00</td>\n",
       "      <td>22.662239</td>\n",
       "      <td>25.496051</td>\n",
       "      <td>False</td>\n",
       "      <td>log</td>\n",
       "    </tr>\n",
       "    <tr>\n",
       "      <th>k=3</th>\n",
       "      <td>2</td>\n",
       "      <td>-2597.836269</td>\n",
       "      <td>3.927949</td>\n",
       "      <td>572.645162</td>\n",
       "      <td>1.247891e-13</td>\n",
       "      <td>22.716198</td>\n",
       "      <td>25.508421</td>\n",
       "      <td>False</td>\n",
       "      <td>log</td>\n",
       "    </tr>\n",
       "  </tbody>\n",
       "</table>\n",
       "</div>"
      ],
      "text/plain": [
       "     rank         waic    p_waic      d_waic        weight         se  \\\n",
       "k=1     0 -2025.191107  1.816784    0.000000  1.000000e+00  22.811192   \n",
       "k=2     1 -2597.073204  2.955893  571.882097  0.000000e+00  22.662239   \n",
       "k=3     2 -2597.836269  3.927949  572.645162  1.247891e-13  22.716198   \n",
       "\n",
       "           dse  warning waic_scale  \n",
       "k=1   0.000000    False        log  \n",
       "k=2  25.496051    False        log  \n",
       "k=3  25.508421    False        log  "
      ]
     },
     "execution_count": 28,
     "metadata": {},
     "output_type": "execute_result"
    }
   ],
   "source": [
    "difference = az.compare(compare_dict, ic=\"waic\")\n",
    "difference"
   ]
  },
  {
   "cell_type": "code",
   "execution_count": 29,
   "metadata": {},
   "outputs": [
    {
     "data": {
      "text/plain": [
       "<AxesSubplot:xlabel='Log'>"
      ]
     },
     "execution_count": 29,
     "metadata": {},
     "output_type": "execute_result"
    },
    {
     "data": {
      "image/png": "[encoded data removed]",
      "text/plain": [
       "<Figure size 432x216 with 1 Axes>"
      ]
     },
     "metadata": {
      "needs_background": "light"
     },
     "output_type": "display_data"
    }
   ],
   "source": [
    "az.plot_compare(difference)"
   ]
  },
  {
   "cell_type": "code",
   "execution_count": null,
   "metadata": {},
   "outputs": [],
   "source": []
  }
 ],
 "metadata": {
  "kernelspec": {
   "display_name": "Python 3",
   "language": "python",
   "name": "python3"
  },
  "language_info": {
   "codemirror_mode": {
    "name": "ipython",
    "version": 3
   },
   "file_extension": ".py",
   "mimetype": "text/x-python",
   "name": "python",
   "nbconvert_exporter": "python",
   "pygments_lexer": "ipython3",
   "version": "3.9.11"
  },
  "orig_nbformat": 4
 },
 "nbformat": 4,
 "nbformat_minor": 2
}
